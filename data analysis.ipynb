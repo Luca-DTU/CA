{
 "cells": [
  {
   "cell_type": "code",
   "execution_count": 1,
   "metadata": {},
   "outputs": [],
   "source": [
    "import pandas as pd\n",
    "import numpy as np\n",
    "from matplotlib import pyplot as plt"
   ]
  },
  {
   "cell_type": "code",
   "execution_count": 2,
   "metadata": {},
   "outputs": [
    {
     "data": {
      "text/html": [
       "<div>\n",
       "<style scoped>\n",
       "    .dataframe tbody tr th:only-of-type {\n",
       "        vertical-align: middle;\n",
       "    }\n",
       "\n",
       "    .dataframe tbody tr th {\n",
       "        vertical-align: top;\n",
       "    }\n",
       "\n",
       "    .dataframe thead th {\n",
       "        text-align: right;\n",
       "    }\n",
       "</style>\n",
       "<table border=\"1\" class=\"dataframe\">\n",
       "  <thead>\n",
       "    <tr style=\"text-align: right;\">\n",
       "      <th></th>\n",
       "      <th>Rule</th>\n",
       "      <th>Dead</th>\n",
       "      <th>T-Ratio_variance</th>\n",
       "      <th>Variation coefficient of A</th>\n",
       "      <th>(E_f-E_i)/std(E)</th>\n",
       "    </tr>\n",
       "  </thead>\n",
       "  <tbody>\n",
       "    <tr>\n",
       "      <th>0</th>\n",
       "      <td>[0]-[1]</td>\n",
       "      <td>0</td>\n",
       "      <td>202.437076</td>\n",
       "      <td>0.078109</td>\n",
       "      <td>8.838643</td>\n",
       "    </tr>\n",
       "    <tr>\n",
       "      <th>1</th>\n",
       "      <td>[0]-[2]</td>\n",
       "      <td>0</td>\n",
       "      <td>23565.655702</td>\n",
       "      <td>0.028204</td>\n",
       "      <td>-9.631574</td>\n",
       "    </tr>\n",
       "    <tr>\n",
       "      <th>2</th>\n",
       "      <td>[0]-[3]</td>\n",
       "      <td>0</td>\n",
       "      <td>18327.830725</td>\n",
       "      <td>0.092070</td>\n",
       "      <td>-8.544644</td>\n",
       "    </tr>\n",
       "    <tr>\n",
       "      <th>3</th>\n",
       "      <td>[0]-[4]</td>\n",
       "      <td>1</td>\n",
       "      <td>20297.411685</td>\n",
       "      <td>0.144389</td>\n",
       "      <td>-5.124670</td>\n",
       "    </tr>\n",
       "    <tr>\n",
       "      <th>4</th>\n",
       "      <td>[0]-[5]</td>\n",
       "      <td>1</td>\n",
       "      <td>NaN</td>\n",
       "      <td>0.157720</td>\n",
       "      <td>-4.047257</td>\n",
       "    </tr>\n",
       "    <tr>\n",
       "      <th>...</th>\n",
       "      <td>...</td>\n",
       "      <td>...</td>\n",
       "      <td>...</td>\n",
       "      <td>...</td>\n",
       "      <td>...</td>\n",
       "    </tr>\n",
       "    <tr>\n",
       "      <th>18146</th>\n",
       "      <td>[8]-[0, 1, 2, 3, 5, 6, 7]</td>\n",
       "      <td>1</td>\n",
       "      <td>NaN</td>\n",
       "      <td>NaN</td>\n",
       "      <td>-2.121320</td>\n",
       "    </tr>\n",
       "    <tr>\n",
       "      <th>18147</th>\n",
       "      <td>[8]-[0, 1, 2, 4, 5, 6, 7]</td>\n",
       "      <td>1</td>\n",
       "      <td>NaN</td>\n",
       "      <td>0.001398</td>\n",
       "      <td>-2.318230</td>\n",
       "    </tr>\n",
       "    <tr>\n",
       "      <th>18148</th>\n",
       "      <td>[8]-[0, 1, 3, 4, 5, 6, 7]</td>\n",
       "      <td>1</td>\n",
       "      <td>NaN</td>\n",
       "      <td>0.004208</td>\n",
       "      <td>-2.714613</td>\n",
       "    </tr>\n",
       "    <tr>\n",
       "      <th>18149</th>\n",
       "      <td>[8]-[0, 2, 3, 4, 5, 6, 7]</td>\n",
       "      <td>1</td>\n",
       "      <td>NaN</td>\n",
       "      <td>0.006252</td>\n",
       "      <td>-2.121320</td>\n",
       "    </tr>\n",
       "    <tr>\n",
       "      <th>18150</th>\n",
       "      <td>[8]-[1, 2, 3, 4, 5, 6, 7]</td>\n",
       "      <td>1</td>\n",
       "      <td>NaN</td>\n",
       "      <td>0.000000</td>\n",
       "      <td>NaN</td>\n",
       "    </tr>\n",
       "  </tbody>\n",
       "</table>\n",
       "<p>18151 rows × 5 columns</p>\n",
       "</div>"
      ],
      "text/plain": [
       "                            Rule Dead  T-Ratio_variance  \\\n",
       "0                        [0]-[1]    0        202.437076   \n",
       "1                        [0]-[2]    0      23565.655702   \n",
       "2                        [0]-[3]    0      18327.830725   \n",
       "3                        [0]-[4]    1      20297.411685   \n",
       "4                        [0]-[5]    1               NaN   \n",
       "...                          ...  ...               ...   \n",
       "18146  [8]-[0, 1, 2, 3, 5, 6, 7]    1               NaN   \n",
       "18147  [8]-[0, 1, 2, 4, 5, 6, 7]    1               NaN   \n",
       "18148  [8]-[0, 1, 3, 4, 5, 6, 7]    1               NaN   \n",
       "18149  [8]-[0, 2, 3, 4, 5, 6, 7]    1               NaN   \n",
       "18150  [8]-[1, 2, 3, 4, 5, 6, 7]    1               NaN   \n",
       "\n",
       "       Variation coefficient of A  (E_f-E_i)/std(E)  \n",
       "0                        0.078109          8.838643  \n",
       "1                        0.028204         -9.631574  \n",
       "2                        0.092070         -8.544644  \n",
       "3                        0.144389         -5.124670  \n",
       "4                        0.157720         -4.047257  \n",
       "...                           ...               ...  \n",
       "18146                         NaN         -2.121320  \n",
       "18147                    0.001398         -2.318230  \n",
       "18148                    0.004208         -2.714613  \n",
       "18149                    0.006252         -2.121320  \n",
       "18150                    0.000000               NaN  \n",
       "\n",
       "[18151 rows x 5 columns]"
      ]
     },
     "execution_count": 2,
     "metadata": {},
     "output_type": "execute_result"
    }
   ],
   "source": [
    "#df=pd.read_pickle('classes.pkl')\n",
    "df=pd.read_pickle('Classes2.pkl')\n",
    "df"
   ]
  },
  {
   "cell_type": "code",
   "execution_count": 3,
   "metadata": {},
   "outputs": [
    {
     "name": "stdout",
     "output_type": "stream",
     "text": [
      "3239\n",
      "2704\n",
      "110\n"
     ]
    },
    {
     "data": {
      "text/plain": [
       "4723937839.897756"
      ]
     },
     "execution_count": 3,
     "metadata": {},
     "output_type": "execute_result"
    }
   ],
   "source": [
    "T=df['T-Ratio_variance']\n",
    "print(T.isna().sum())\n",
    "A=df['Variation coefficient of A']\n",
    "print(A.isna().sum())\n",
    "C=df['(E_f-E_i)/std(E)']\n",
    "print(C.isna().sum())\n",
    "max(T)"
   ]
  },
  {
   "cell_type": "code",
   "execution_count": 4,
   "metadata": {},
   "outputs": [
    {
     "data": {
      "image/png": "[encoded data removed]",
      "text/plain": [
       "<Figure size 432x288 with 1 Axes>"
      ]
     },
     "metadata": {
      "needs_background": "light"
     },
     "output_type": "display_data"
    },
    {
     "data": {
      "image/png": "[encoded data removed]",
      "text/plain": [
       "<Figure size 432x288 with 1 Axes>"
      ]
     },
     "metadata": {
      "needs_background": "light"
     },
     "output_type": "display_data"
    },
    {
     "data": {
      "image/png": "[encoded data removed]",
      "text/plain": [
       "<Figure size 432x288 with 1 Axes>"
      ]
     },
     "metadata": {
      "needs_background": "light"
     },
     "output_type": "display_data"
    },
    {
     "data": {
      "image/png": "[encoded data removed]",
      "text/plain": [
       "<Figure size 432x288 with 1 Axes>"
      ]
     },
     "metadata": {
      "needs_background": "light"
     },
     "output_type": "display_data"
    },
    {
     "data": {
      "image/png": "[encoded data removed]",
      "text/plain": [
       "<Figure size 432x288 with 1 Axes>"
      ]
     },
     "metadata": {
      "needs_background": "light"
     },
     "output_type": "display_data"
    }
   ],
   "source": [
    "plt.hist(T,bins=1000,range=(0,1))\n",
    "plt.show()\n",
    "plt.hist(A,bins=1000,range=(0,1))\n",
    "plt.show()\n",
    "plt.hist(C,bins=10)\n",
    "plt.show()\n",
    "\n",
    "plt.loglog(T)\n",
    "plt.show()\n",
    "plt.loglog(A)\n",
    "plt.show()\n",
    "\n",
    "#x thresholdf\n",
    "#y how many cases as a function of threshold\n",
    "#check for jumps / sudden changes to justify threshold\n"
   ]
  },
  {
   "cell_type": "code",
   "execution_count": 5,
   "metadata": {},
   "outputs": [],
   "source": [
    "cl = pd.DataFrame(columns=['Rule','Dead','Ideal','Equilibrium','Conservative'])\n",
    "cl['Rule']=df['Rule']\n",
    "cl['Dead']=df['Dead']\n",
    "n=-1\n",
    "for i in df['T-Ratio_variance']: \n",
    "    n=n+1\n",
    "    if i<1:\n",
    "        cl['Ideal'][n]=1\n",
    "    else:\n",
    "        cl['Ideal'][n]=0\n",
    "    if df['Variation coefficient of A'][n]<0.1:\n",
    "        cl['Equilibrium'][n]=1\n",
    "    else:\n",
    "        cl['Equilibrium'][n]=0\n",
    "    if abs(df['(E_f-E_i)/std(E)'][n])<1:\n",
    "        cl['Conservative'][n]=1\n",
    "    else:\n",
    "        cl['Conservative'][n]=0\n"
   ]
  },
  {
   "cell_type": "code",
   "execution_count": 6,
   "metadata": {},
   "outputs": [
    {
     "data": {
      "image/png": "[encoded data removed]",
      "text/plain": [
       "<Figure size 432x288 with 1 Axes>"
      ]
     },
     "metadata": {
      "needs_background": "light"
     },
     "output_type": "display_data"
    },
    {
     "data": {
      "image/png": "[encoded data removed]",
      "text/plain": [
       "<Figure size 432x288 with 1 Axes>"
      ]
     },
     "metadata": {
      "needs_background": "light"
     },
     "output_type": "display_data"
    },
    {
     "data": {
      "image/png": "[encoded data removed]",
      "text/plain": [
       "<Figure size 432x288 with 1 Axes>"
      ]
     },
     "metadata": {
      "needs_background": "light"
     },
     "output_type": "display_data"
    },
    {
     "data": {
      "image/png": "[encoded data removed]",
      "text/plain": [
       "<Figure size 432x288 with 1 Axes>"
      ]
     },
     "metadata": {
      "needs_background": "light"
     },
     "output_type": "display_data"
    },
    {
     "data": {
      "text/plain": [
       "264"
      ]
     },
     "execution_count": 6,
     "metadata": {},
     "output_type": "execute_result"
    }
   ],
   "source": [
    "plt.hist(cl['Dead'],bins=2)\n",
    "plt.show()\n",
    "plt.hist(cl['Conservative'],bins=2)\n",
    "plt.show()\n",
    "plt.hist(cl['Ideal'],bins=2)\n",
    "plt.show()\n",
    "plt.hist(cl['Equilibrium'],bins=2)\n",
    "plt.show()\n",
    "np.sum(cl['Conservative'])"
   ]
  },
  {
   "cell_type": "code",
   "execution_count": 9,
   "metadata": {},
   "outputs": [
    {
     "data": {
      "text/html": [
       "<div>\n",
       "<style scoped>\n",
       "    .dataframe tbody tr th:only-of-type {\n",
       "        vertical-align: middle;\n",
       "    }\n",
       "\n",
       "    .dataframe tbody tr th {\n",
       "        vertical-align: top;\n",
       "    }\n",
       "\n",
       "    .dataframe thead th {\n",
       "        text-align: right;\n",
       "    }\n",
       "</style>\n",
       "<table border=\"1\" class=\"dataframe\">\n",
       "  <thead>\n",
       "    <tr style=\"text-align: right;\">\n",
       "      <th></th>\n",
       "      <th>Rule</th>\n",
       "      <th>Class</th>\n",
       "    </tr>\n",
       "  </thead>\n",
       "  <tbody>\n",
       "    <tr>\n",
       "      <th>0</th>\n",
       "      <td>[0]-[1]</td>\n",
       "      <td>C</td>\n",
       "    </tr>\n",
       "    <tr>\n",
       "      <th>1</th>\n",
       "      <td>[0]-[2]</td>\n",
       "      <td>C</td>\n",
       "    </tr>\n",
       "    <tr>\n",
       "      <th>2</th>\n",
       "      <td>[0]-[3]</td>\n",
       "      <td>C</td>\n",
       "    </tr>\n",
       "    <tr>\n",
       "      <th>3</th>\n",
       "      <td>[0]-[4]</td>\n",
       "      <td>E</td>\n",
       "    </tr>\n",
       "    <tr>\n",
       "      <th>4</th>\n",
       "      <td>[0]-[5]</td>\n",
       "      <td>E</td>\n",
       "    </tr>\n",
       "    <tr>\n",
       "      <th>...</th>\n",
       "      <td>...</td>\n",
       "      <td>...</td>\n",
       "    </tr>\n",
       "    <tr>\n",
       "      <th>18146</th>\n",
       "      <td>[8]-[0, 1, 2, 3, 5, 6, 7]</td>\n",
       "      <td>E</td>\n",
       "    </tr>\n",
       "    <tr>\n",
       "      <th>18147</th>\n",
       "      <td>[8]-[0, 1, 2, 4, 5, 6, 7]</td>\n",
       "      <td>E</td>\n",
       "    </tr>\n",
       "    <tr>\n",
       "      <th>18148</th>\n",
       "      <td>[8]-[0, 1, 3, 4, 5, 6, 7]</td>\n",
       "      <td>E</td>\n",
       "    </tr>\n",
       "    <tr>\n",
       "      <th>18149</th>\n",
       "      <td>[8]-[0, 2, 3, 4, 5, 6, 7]</td>\n",
       "      <td>E</td>\n",
       "    </tr>\n",
       "    <tr>\n",
       "      <th>18150</th>\n",
       "      <td>[8]-[1, 2, 3, 4, 5, 6, 7]</td>\n",
       "      <td>E</td>\n",
       "    </tr>\n",
       "  </tbody>\n",
       "</table>\n",
       "<p>18151 rows × 2 columns</p>\n",
       "</div>"
      ],
      "text/plain": [
       "                            Rule Class\n",
       "0                        [0]-[1]     C\n",
       "1                        [0]-[2]     C\n",
       "2                        [0]-[3]     C\n",
       "3                        [0]-[4]     E\n",
       "4                        [0]-[5]     E\n",
       "...                          ...   ...\n",
       "18146  [8]-[0, 1, 2, 3, 5, 6, 7]     E\n",
       "18147  [8]-[0, 1, 2, 4, 5, 6, 7]     E\n",
       "18148  [8]-[0, 1, 3, 4, 5, 6, 7]     E\n",
       "18149  [8]-[0, 2, 3, 4, 5, 6, 7]     E\n",
       "18150  [8]-[1, 2, 3, 4, 5, 6, 7]     E\n",
       "\n",
       "[18151 rows x 2 columns]"
      ]
     },
     "execution_count": 9,
     "metadata": {},
     "output_type": "execute_result"
    }
   ],
   "source": [
    "'''\n",
    "Final classification:\n",
    "Class A: Ideal gas at equilibrium\n",
    "Class B: Ideal gas in non-equilibrium\n",
    "Class C: Non-Ideal gas at equilibrum\n",
    "Class D: Non-Ideal gas at non-equilibrium\n",
    "Class E: Dead\n",
    "'''\n",
    "CL = pd.DataFrame(columns=['Rule','Class'])\n",
    "CL['Rule']=cl['Rule']\n",
    "for i in range(len(cl)): \n",
    "    if cl['Ideal'][i]==1 and cl['Equilibrium'][i]==1:\n",
    "        CL['Class'][i]='A'\n",
    "    if cl['Ideal'][i]==1 and cl['Equilibrium'][i]==0:\n",
    "        CL['Class'][i]='B'\n",
    "    if cl['Ideal'][i]==0 and cl['Equilibrium'][i]==1:\n",
    "        CL['Class'][i]='C'\n",
    "    if cl['Ideal'][i]==0 and cl['Equilibrium'][i]==0:\n",
    "        CL['Class'][i]='D'\n",
    "    if cl['Dead'][i]==1:\n",
    "        CL['Class'][i]='E'\n",
    "CL\n"
   ]
  },
  {
   "cell_type": "code",
   "execution_count": 15,
   "metadata": {},
   "outputs": [
    {
     "data": {
      "image/png": "[encoded data removed]",
      "text/plain": [
       "<Figure size 432x288 with 1 Axes>"
      ]
     },
     "metadata": {
      "needs_background": "light"
     },
     "output_type": "display_data"
    },
    {
     "data": {
      "text/html": [
       "<div>\n",
       "<style scoped>\n",
       "    .dataframe tbody tr th:only-of-type {\n",
       "        vertical-align: middle;\n",
       "    }\n",
       "\n",
       "    .dataframe tbody tr th {\n",
       "        vertical-align: top;\n",
       "    }\n",
       "\n",
       "    .dataframe thead th {\n",
       "        text-align: right;\n",
       "    }\n",
       "</style>\n",
       "<table border=\"1\" class=\"dataframe\">\n",
       "  <thead>\n",
       "    <tr style=\"text-align: right;\">\n",
       "      <th></th>\n",
       "      <th>Rule</th>\n",
       "      <th>Class</th>\n",
       "    </tr>\n",
       "  </thead>\n",
       "  <tbody>\n",
       "    <tr>\n",
       "      <th>656</th>\n",
       "      <td>[2, 4, 6]-[3]</td>\n",
       "      <td>D</td>\n",
       "    </tr>\n",
       "    <tr>\n",
       "      <th>658</th>\n",
       "      <td>[2, 4, 6]-[7]</td>\n",
       "      <td>D</td>\n",
       "    </tr>\n",
       "    <tr>\n",
       "      <th>659</th>\n",
       "      <td>[2, 4, 6]-[8]</td>\n",
       "      <td>D</td>\n",
       "    </tr>\n",
       "    <tr>\n",
       "      <th>662</th>\n",
       "      <td>[2, 4, 7]-[3]</td>\n",
       "      <td>D</td>\n",
       "    </tr>\n",
       "    <tr>\n",
       "      <th>665</th>\n",
       "      <td>[2, 4, 7]-[8]</td>\n",
       "      <td>D</td>\n",
       "    </tr>\n",
       "    <tr>\n",
       "      <th>668</th>\n",
       "      <td>[2, 4, 8]-[3]</td>\n",
       "      <td>D</td>\n",
       "    </tr>\n",
       "    <tr>\n",
       "      <th>670</th>\n",
       "      <td>[2, 4, 8]-[6]</td>\n",
       "      <td>D</td>\n",
       "    </tr>\n",
       "    <tr>\n",
       "      <th>671</th>\n",
       "      <td>[2, 4, 8]-[7]</td>\n",
       "      <td>D</td>\n",
       "    </tr>\n",
       "    <tr>\n",
       "      <th>675</th>\n",
       "      <td>[2, 5, 6]-[4]</td>\n",
       "      <td>D</td>\n",
       "    </tr>\n",
       "    <tr>\n",
       "      <th>677</th>\n",
       "      <td>[2, 5, 6]-[8]</td>\n",
       "      <td>D</td>\n",
       "    </tr>\n",
       "  </tbody>\n",
       "</table>\n",
       "</div>"
      ],
      "text/plain": [
       "              Rule Class\n",
       "656  [2, 4, 6]-[3]     D\n",
       "658  [2, 4, 6]-[7]     D\n",
       "659  [2, 4, 6]-[8]     D\n",
       "662  [2, 4, 7]-[3]     D\n",
       "665  [2, 4, 7]-[8]     D\n",
       "668  [2, 4, 8]-[3]     D\n",
       "670  [2, 4, 8]-[6]     D\n",
       "671  [2, 4, 8]-[7]     D\n",
       "675  [2, 5, 6]-[4]     D\n",
       "677  [2, 5, 6]-[8]     D"
      ]
     },
     "execution_count": 15,
     "metadata": {},
     "output_type": "execute_result"
    }
   ],
   "source": [
    "plt.hist(CL.Class)\n",
    "plt.show()\n",
    "D=CL[CL.Class=='D']\n",
    "D[300:310]"
   ]
  },
  {
   "cell_type": "code",
   "execution_count": 24,
   "metadata": {},
   "outputs": [],
   "source": [
    "CL.to_csv('classification.csv',sep=';')"
   ]
  },
  {
   "cell_type": "code",
   "execution_count": 1,
   "metadata": {},
   "outputs": [
    {
     "ename": "NameError",
     "evalue": "name 'df' is not defined",
     "output_type": "error",
     "traceback": [
      "\u001b[1;31m---------------------------------------------------------------------------\u001b[0m",
      "\u001b[1;31mNameError\u001b[0m                                 Traceback (most recent call last)",
      "\u001b[1;32m<ipython-input-1-de0efd8b6bb3>\u001b[0m in \u001b[0;36m<module>\u001b[1;34m\u001b[0m\n\u001b[0;32m      1\u001b[0m \u001b[1;31m#min(df['Variation coefficient of A'])\u001b[0m\u001b[1;33m\u001b[0m\u001b[1;33m\u001b[0m\u001b[1;33m\u001b[0m\u001b[0m\n\u001b[0;32m      2\u001b[0m \u001b[1;31m#CL[CL.Class=='A']\u001b[0m\u001b[1;33m\u001b[0m\u001b[1;33m\u001b[0m\u001b[1;33m\u001b[0m\u001b[0m\n\u001b[1;32m----> 3\u001b[1;33m \u001b[0mk\u001b[0m\u001b[1;33m=\u001b[0m\u001b[0mdf\u001b[0m\u001b[1;33m[\u001b[0m\u001b[0mdf\u001b[0m\u001b[1;33m[\u001b[0m\u001b[1;34m'Variation coefficient of A'\u001b[0m\u001b[1;33m]\u001b[0m\u001b[1;33m<\u001b[0m\u001b[1;36m0.1\u001b[0m \u001b[1;33m]\u001b[0m\u001b[1;33m\u001b[0m\u001b[1;33m\u001b[0m\u001b[0m\n\u001b[0m\u001b[0;32m      4\u001b[0m \u001b[0mk\u001b[0m\u001b[1;33m=\u001b[0m\u001b[0mk\u001b[0m\u001b[1;33m[\u001b[0m\u001b[0mk\u001b[0m\u001b[1;33m[\u001b[0m\u001b[1;34m'Variation coefficient of A'\u001b[0m\u001b[1;33m]\u001b[0m\u001b[1;33m>\u001b[0m\u001b[1;36m0.01\u001b[0m \u001b[1;33m]\u001b[0m\u001b[1;33m\u001b[0m\u001b[1;33m\u001b[0m\u001b[0m\n\u001b[0;32m      5\u001b[0m \u001b[0mk\u001b[0m\u001b[1;33m=\u001b[0m\u001b[0mk\u001b[0m\u001b[1;33m[\u001b[0m\u001b[0mk\u001b[0m\u001b[1;33m[\u001b[0m\u001b[1;34m'(E_f-E_i)/std(E)'\u001b[0m\u001b[1;33m]\u001b[0m\u001b[1;33m>\u001b[0m\u001b[1;36m0\u001b[0m \u001b[1;33m]\u001b[0m\u001b[1;33m\u001b[0m\u001b[1;33m\u001b[0m\u001b[0m\n",
      "\u001b[1;31mNameError\u001b[0m: name 'df' is not defined"
     ]
    }
   ],
   "source": [
    "#min(df['Variation coefficient of A'])\n",
    "#CL[CL.Class=='A']\n",
    "k=df[df['Variation coefficient of A']<0.1 ]\n",
    "k=k[k['Variation coefficient of A']>0.01 ]\n",
    "k=k[k['(E_f-E_i)/std(E)']>0 ]\n",
    "r=k[k.Dead==0]\n",
    "T=CL[CL['Rule']==('[3]-[0,1]')]\n",
    "CL[Class=='D']"
   ]
  },
  {
   "cell_type": "code",
   "execution_count": 73,
   "metadata": {},
   "outputs": [
    {
     "data": {
      "text/html": [
       "<div>\n",
       "<style scoped>\n",
       "    .dataframe tbody tr th:only-of-type {\n",
       "        vertical-align: middle;\n",
       "    }\n",
       "\n",
       "    .dataframe tbody tr th {\n",
       "        vertical-align: top;\n",
       "    }\n",
       "\n",
       "    .dataframe thead th {\n",
       "        text-align: right;\n",
       "    }\n",
       "</style>\n",
       "<table border=\"1\" class=\"dataframe\">\n",
       "  <thead>\n",
       "    <tr style=\"text-align: right;\">\n",
       "      <th></th>\n",
       "      <th>Rule</th>\n",
       "      <th>Dead</th>\n",
       "      <th>Ideal</th>\n",
       "      <th>Equilibrium</th>\n",
       "      <th>Conservative</th>\n",
       "    </tr>\n",
       "  </thead>\n",
       "  <tbody>\n",
       "    <tr>\n",
       "      <th>54</th>\n",
       "      <td>[6]-[7]</td>\n",
       "      <td>1</td>\n",
       "      <td>0</td>\n",
       "      <td>1</td>\n",
       "      <td>1</td>\n",
       "    </tr>\n",
       "    <tr>\n",
       "      <th>133</th>\n",
       "      <td>[1, 2]-[7]</td>\n",
       "      <td>1</td>\n",
       "      <td>0</td>\n",
       "      <td>0</td>\n",
       "      <td>1</td>\n",
       "    </tr>\n",
       "    <tr>\n",
       "      <th>371</th>\n",
       "      <td>[0, 2, 3]-[8]</td>\n",
       "      <td>1</td>\n",
       "      <td>0</td>\n",
       "      <td>0</td>\n",
       "      <td>1</td>\n",
       "    </tr>\n",
       "    <tr>\n",
       "      <th>388</th>\n",
       "      <td>[0, 2, 6]-[7]</td>\n",
       "      <td>0</td>\n",
       "      <td>0</td>\n",
       "      <td>0</td>\n",
       "      <td>1</td>\n",
       "    </tr>\n",
       "    <tr>\n",
       "      <th>424</th>\n",
       "      <td>[0, 3, 7]-[6]</td>\n",
       "      <td>0</td>\n",
       "      <td>0</td>\n",
       "      <td>0</td>\n",
       "      <td>1</td>\n",
       "    </tr>\n",
       "    <tr>\n",
       "      <th>...</th>\n",
       "      <td>...</td>\n",
       "      <td>...</td>\n",
       "      <td>...</td>\n",
       "      <td>...</td>\n",
       "      <td>...</td>\n",
       "    </tr>\n",
       "    <tr>\n",
       "      <th>17923</th>\n",
       "      <td>[1, 7]-[0, 3, 4, 5, 6, 8]</td>\n",
       "      <td>0</td>\n",
       "      <td>0</td>\n",
       "      <td>0</td>\n",
       "      <td>1</td>\n",
       "    </tr>\n",
       "    <tr>\n",
       "      <th>17930</th>\n",
       "      <td>[1, 8]-[0, 3, 4, 5, 6, 7]</td>\n",
       "      <td>0</td>\n",
       "      <td>0</td>\n",
       "      <td>0</td>\n",
       "      <td>1</td>\n",
       "    </tr>\n",
       "    <tr>\n",
       "      <th>17974</th>\n",
       "      <td>[3, 4]-[0, 1, 2, 5, 6, 7]</td>\n",
       "      <td>0</td>\n",
       "      <td>1</td>\n",
       "      <td>1</td>\n",
       "      <td>1</td>\n",
       "    </tr>\n",
       "    <tr>\n",
       "      <th>18093</th>\n",
       "      <td>[1]-[0, 3, 4, 5, 6, 7, 8]</td>\n",
       "      <td>0</td>\n",
       "      <td>0</td>\n",
       "      <td>0</td>\n",
       "      <td>1</td>\n",
       "    </tr>\n",
       "    <tr>\n",
       "      <th>18108</th>\n",
       "      <td>[3]-[0, 1, 4, 5, 6, 7, 8]</td>\n",
       "      <td>0</td>\n",
       "      <td>1</td>\n",
       "      <td>1</td>\n",
       "      <td>1</td>\n",
       "    </tr>\n",
       "  </tbody>\n",
       "</table>\n",
       "<p>264 rows × 5 columns</p>\n",
       "</div>"
      ],
      "text/plain": [
       "                            Rule Dead Ideal Equilibrium Conservative\n",
       "54                       [6]-[7]    1     0           1            1\n",
       "133                   [1, 2]-[7]    1     0           0            1\n",
       "371                [0, 2, 3]-[8]    1     0           0            1\n",
       "388                [0, 2, 6]-[7]    0     0           0            1\n",
       "424                [0, 3, 7]-[6]    0     0           0            1\n",
       "...                          ...  ...   ...         ...          ...\n",
       "17923  [1, 7]-[0, 3, 4, 5, 6, 8]    0     0           0            1\n",
       "17930  [1, 8]-[0, 3, 4, 5, 6, 7]    0     0           0            1\n",
       "17974  [3, 4]-[0, 1, 2, 5, 6, 7]    0     1           1            1\n",
       "18093  [1]-[0, 3, 4, 5, 6, 7, 8]    0     0           0            1\n",
       "18108  [3]-[0, 1, 4, 5, 6, 7, 8]    0     1           1            1\n",
       "\n",
       "[264 rows x 5 columns]"
      ]
     },
     "execution_count": 73,
     "metadata": {},
     "output_type": "execute_result"
    }
   ],
   "source": [
    "cl[cl['Conservative']==1]"
   ]
  },
  {
   "cell_type": "code",
   "execution_count": null,
   "metadata": {},
   "outputs": [],
   "source": []
  }
 ],
 "metadata": {
  "kernelspec": {
   "display_name": "Python 3",
   "language": "python",
   "name": "python3"
  },
  "language_info": {
   "codemirror_mode": {
    "name": "ipython",
    "version": 3
   },
   "file_extension": ".py",
   "mimetype": "text/x-python",
   "name": "python",
   "nbconvert_exporter": "python",
   "pygments_lexer": "ipython3",
   "version": "3.7.9"
  }
 },
 "nbformat": 4,
 "nbformat_minor": 4
}
